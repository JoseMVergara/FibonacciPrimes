{
 "cells": [
  {
   "cell_type": "markdown",
   "metadata": {},
   "source": [
    "# Fibonacci Primes\n",
    "### Author: José Manuel Vergara Álvarez (@JoseMVergara)\n",
    "\n",
    "Program that calculates __Fibonacci primes__ in a period of time"
   ]
  },
  {
   "cell_type": "code",
   "execution_count": 1,
   "metadata": {},
   "outputs": [],
   "source": [
    "import numpy as np\n",
    "import matplotlib.pyplot as plt\n",
    "import time\n",
    "\n",
    "class Prime(object):    \n",
    "    \"Class of prime numbers\"\n",
    "    \n",
    "    def isPrime(self,number):\n",
    "        \n",
    "        '''method to Check if a number is prime\n",
    "        input: number to Check\n",
    "        output: True if prime, false if not'''\n",
    "        if isinstance(number,int) and number > 0:\n",
    "            self.number = number\n",
    "        else:\n",
    "            raise ValueError(\"a prime number must be Natural\")\n",
    "        if self.number<2:\n",
    "            return False\n",
    "        elif self.number==2:\n",
    "            return True\n",
    "        else:\n",
    "            flag = True\n",
    "            for n in range(2,self.number):\n",
    "                if self.number%n == 0:\n",
    "                    flag = False\n",
    "            return flag"
   ]
  },
  {
   "cell_type": "code",
   "execution_count": 2,
   "metadata": {},
   "outputs": [],
   "source": [
    "def CalculateFibonacciPrimes(timeToRun):\n",
    "    '''Function that calculates fibonacci Prime in a period of time\n",
    "    input: time: how long the program will last in minutes\n",
    "    output: the list of prime fibonacci numbers''' \n",
    "    \n",
    "    timeToRun =  time.time()+60*timeToRun\n",
    "    last = 1\n",
    "    penultimate = 0\n",
    "    fibonacciPrimes = []\n",
    "    indexN = []\n",
    "    count = 2\n",
    "    while time.time() < timeToRun:\n",
    "        newLast = last+penultimate\n",
    "        penultimate = last\n",
    "        last = newLast\n",
    "        x = Prime().isPrime(newLast)\n",
    "        if x is True:\n",
    "            fibonacciPrimes += [newLast]\n",
    "            indexN += [count]\n",
    "        count += 1\n",
    "    return fibonacciPrimes,indexN"
   ]
  },
  {
   "cell_type": "markdown",
   "metadata": {},
   "source": [
    "## Test time for one minute"
   ]
  },
  {
   "cell_type": "code",
   "execution_count": 18,
   "metadata": {},
   "outputs": [
    {
     "name": "stdout",
     "output_type": "stream",
     "text": [
      "CPU times: user 1min 8s, sys: 4 ms, total: 1min 8s\n",
      "Wall time: 1min 8s\n"
     ]
    }
   ],
   "source": [
    "%%time\n",
    "testFibonacciPrimes,testIndex = CalculateFibonacciPrimes(1)"
   ]
  },
  {
   "cell_type": "markdown",
   "metadata": {},
   "source": [
    "## Run code for an Hour"
   ]
  },
  {
   "cell_type": "code",
   "execution_count": null,
   "metadata": {},
   "outputs": [],
   "source": [
    "fibonacciPrimes,index = CalculateFibonacciPrimes(60)"
   ]
  },
  {
   "cell_type": "markdown",
   "metadata": {},
   "source": [
    "## Report"
   ]
  },
  {
   "cell_type": "code",
   "execution_count": 8,
   "metadata": {},
   "outputs": [
    {
     "name": "stdout",
     "output_type": "stream",
     "text": [
      "The list of fibonacci primes numbers found were:  [2, 3, 5, 13, 89, 233, 1597, 28657, 514229, 433494437, 2971215073]\n",
      "The corresponding ns were:  [3, 4, 5, 7, 11, 13, 17, 23, 29, 43, 47]\n"
     ]
    }
   ],
   "source": [
    "print(\"The list of fibonacci primes numbers found were: \",fibonacciPrimes)\n",
    "print(\"The corresponding ns were: \", index)"
   ]
  },
  {
   "cell_type": "markdown",
   "metadata": {},
   "source": [
    "## Plots"
   ]
  },
  {
   "cell_type": "code",
   "execution_count": 30,
   "metadata": {},
   "outputs": [
    {
     "data": {
      "image/png": "[encoded data removed]",
      "text/plain": [
       "<Figure size 432x288 with 1 Axes>"
      ]
     },
     "metadata": {
      "needs_background": "light"
     },
     "output_type": "display_data"
    }
   ],
   "source": [
    "plt.plot(index,fibonacciPrimes,'or')\n",
    "plt.title('Fibonacci primes found in one hour',size=15)\n",
    "plt.ylabel('$F_n$',size=15)\n",
    "plt.xlabel('$n$',size=15)\n",
    "plt.xticks(np.arange(0,index[-1]+3,3))\n",
    "plt.grid()\n",
    "plt.show()"
   ]
  }
 ],
 "metadata": {
  "kernelspec": {
   "display_name": "Python 3",
   "language": "python",
   "name": "python3"
  },
  "language_info": {
   "codemirror_mode": {
    "name": "ipython",
    "version": 3
   },
   "file_extension": ".py",
   "mimetype": "text/x-python",
   "name": "python",
   "nbconvert_exporter": "python",
   "pygments_lexer": "ipython3",
   "version": "3.7.3"
  }
 },
 "nbformat": 4,
 "nbformat_minor": 2
}
